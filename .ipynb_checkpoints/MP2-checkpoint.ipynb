{
 "cells": [
  {
   "cell_type": "markdown",
   "id": "38e8f04b-c337-40cb-b49a-02dcd3be4e5f",
   "metadata": {},
   "source": [
    "# Machine Problem 2"
   ]
  },
  {
   "cell_type": "markdown",
   "id": "22fefb2f-f95d-4f6b-8dc7-502c8eb2c9c5",
   "metadata": {},
   "source": [
    "Instructions: Implement the RMSProp and Adam (as discussed in the video lectures). You may use the helper functions provided below. "
   ]
  },
  {
   "cell_type": "markdown",
   "id": "9e5faa14-733f-4b9c-8d0a-711992c45c34",
   "metadata": {
    "tags": []
   },
   "source": [
    "## Helper Functions"
   ]
  },
  {
   "cell_type": "code",
   "execution_count": null,
   "id": "123d0aef-3fa1-4fef-b92d-d31a2d6658ff",
   "metadata": {},
   "outputs": [],
   "source": [
    "using ForwardDiff\n",
    "using Plots\n",
    "using Symbolics\n",
    "\n",
    "### helper functions\n",
    "function optimize(f, params)\n",
    "    w = rand(p)\n",
    "    for t in 1:N\n",
    "        x = X[t, :] \n",
    "    end\n",
    "end\n",
    "\n",
    "function compute_gradient(f, x)\n",
    "    grad = ForwardDiff.gradient(f, x)\n",
    "    return grad\n",
    "end\n",
    "\n",
    "function symbolic_2dgradient(f)\n",
    "\n",
    "    @variables x y\n",
    "\n",
    "    D_x = Differential(x)\n",
    "    D_y = Differential(y)\n",
    "\n",
    "    df_dx = expand_derivatives(D_x(f(x, y)))  # Partial derivative w.r.t. x\n",
    "    df_dy = expand_derivatives(D_y(f(x, y)))  # Partial derivative w.r.t. y\n",
    "\n",
    "    println(\"∂f/∂x: $df_dx\")\n",
    "    println(\"∂f/∂y: $df_dy\")\n",
    "\n",
    "end\n",
    "\n",
    "### learning algorithms\n",
    "function sgd_momentum(obj_func, num_params, start; γ=0.9, η=0.001, error=0.00001)\n",
    "\n",
    "    θ = start\n",
    "    history = θ\n",
    "    v = zeros(num_params)\n",
    "    grad = compute_gradient(obj_func, θ)\n",
    "\n",
    "    while abs(grad[1]) > error || abs(grad[2]) > error\n",
    "        grad = compute_gradient(obj_func, θ)\n",
    "        v = γ .* v + - η .* grad\n",
    "        θ = θ + v\n",
    "        history = hcat(history, θ)\n",
    "    end\n",
    "\n",
    "    return (round.(θ, digits=3), history)\n",
    "end\n",
    "\n",
    "### plotting\n",
    "\n",
    "function countour_plot(func, xrange, yrange, x_scatter, y_scatter, fill=false, levels=100)\n",
    "    x_vals = range(xrange[1], xrange[2], length = 100)\n",
    "    y_vals = range(yrange[1], yrange[2], length = 100)\n",
    "    \n",
    "    z_vals = [func(x, y) for y in y_vals, x in x_vals]\n",
    "    contour(x_vals, y_vals, z_vals, levels = 50, xlabel = \"x\", ylabel = \"y\", fill=fill)\n",
    "    trajectory_plot(x_scatter, y_scatter)\n",
    "end\n",
    "\n",
    "function trajectory_plot(x_scatter, y_scatter, legend=true)\n",
    "    plot!(x_scatter, y_scatter, color=:red, label=legend ? \"Trajectory\" : \"\")\n",
    "    scatter!([x_scatter[1]], [y_scatter[1]], color=:black,label=legend ? \"Initial Solution\" : legend)\n",
    "    scatter!([x_scatter[end]], [y_scatter[end]], markershape=:utriangle, color=:black, label=legend ? \"Best Solution\" : legend)\n",
    "end\n",
    "\n",
    "### testing\n",
    "\n",
    "function test_sgd(sgd_func, test_func, test_solutions, num_params, start_points; kargs...)\n",
    "    contours_drawn = false\n",
    "    for start in start_points\n",
    "        Z = sgd_func(test_func, num_params, start; kargs...)\n",
    "        history = Z[2]\n",
    "        if !contours_drawn\n",
    "            countour_plot(test_func, [-10,10], [-10, 10], history[1,:], history[2,:], false, 5)\n",
    "            contours_drawn = true\n",
    "        else\n",
    "            trajectory_plot(history[1, :], history[2, :], false)\n",
    "        end\n",
    "    end\n",
    "    scatter!(test_solutions[1], test_solutions[2], color=:blue, marker=:square, label=\"Best Solution\")\n",
    "    plot!(figsize=(60,40), xlimits=(-11, 11), ylimits=(-11, 11))\n",
    "end\n"
   ]
  },
  {
   "cell_type": "markdown",
   "id": "39260048-57a2-44d5-98fa-ba2288c447a8",
   "metadata": {},
   "source": [
    "### You need to implement the benchmark functions below. You may refer to this page for reference: https://en.wikipedia.org/wiki/Test_functions_for_optimization"
   ]
  },
  {
   "cell_type": "code",
   "execution_count": null,
   "id": "9335b1a2-e497-4890-81c0-e30f2069954c",
   "metadata": {},
   "outputs": [],
   "source": [
    "### Benchmark functions\n",
    "function beale_func(u)\n",
    "    x = u[1]\n",
    "    y = u[2]\n",
    "    return beale_func(x,y)\n",
    "end\n",
    "\n",
    "function beale_func(x,y)\n",
    "    return (1.5 - x + x*y)^2 + (2.25 - x + x*y^2)^2 + (2.625 - x + x*y^3)^2\n",
    "end\n",
    "\n",
    "function booth_func(u)\n",
    "    x = u[1]\n",
    "    y = u[2]\n",
    "    return booth_func(x,y)\n",
    "end\n",
    "\n",
    "function booth_func(x, y)\n",
    "    return (x + 2*y -7)^2 + (2*x + y - 5)^2\n",
    "end\n",
    "function matyas_func(u)\n",
    "    x = u[1]\n",
    "    y = u[2]\n",
    "    return matyas_func(x,y)\n",
    "end\n",
    "\n",
    "function matyas_func(x,y)\n",
    "    return 0.26 * (x^2 + y^2) - 0.48 * x * y\n",
    "end\n",
    "\n",
    "function himmelblau_func(u)\n",
    "    x = u[1]\n",
    "    y = u[2]\n",
    "    return himmelblau_func(x,y)\n",
    "end\n",
    "\n",
    "function himmelblau_func(x,y)\n",
    "    return (x^2 + y - 11)^2 + (x + y^2 - 7)^2\n",
    "end\n",
    "\n",
    "function mccormick_func(u)\n",
    "    x = u[1]\n",
    "    y = u[2]\n",
    "    return mccormick_func(x,y)\n",
    "end\n",
    "\n",
    "function mccormick_func(x,y)\n",
    "    return sin(x + y) + (x - y)^2 - 1.5*x + 2.5*y + 1\n",
    "end\n",
    "\n",
    "function goldstein_price_func(u)\n",
    "    x = u[1]\n",
    "    y = u[2]\n",
    "    return goldstein_price_func(x,y)\n",
    "end\n",
    "\n",
    "function goldstein_price_func(x,y)\n",
    "    return (1 + (x + y + 1)^2 * (19 - 14*x + 3*x^2 - 14*y + 6*x*y + 3*y^2)) * (30 + (2*x - 3*y)^2 * (18 - 32*x + 12*x^2 + 48*y - 36*x*y + 27*y^2))\n",
    "end\n",
    "\n",
    "function three_hump_camel_func(u)\n",
    "    x = u[1]\n",
    "    y = u[2]\n",
    "    return three_hump_camel_func(x,y)\n",
    "end\n",
    "\n",
    "function three_hump_camel_func(x,y)\n",
    "    return 2*x^2 - 1.05*x^4 + (x^6 / 6) + x*y + y^2\n",
    "end\n"
   ]
  },
  {
   "cell_type": "code",
   "execution_count": null,
   "id": "4dc8d1ee-3e2a-4582-802a-b897a57a675c",
   "metadata": {},
   "outputs": [],
   "source": [
    "TEST_FUNCTIONS = [\n",
    "    Dict(\n",
    "        \"func\"=>beale_func, \n",
    "        \"solutions\"=>[[3], [0.5]],\n",
    "    ),\n",
    "    Dict(\n",
    "        \"func\"=>booth_func, \n",
    "        \"solutions\"=>[[1], [3]],\n",
    "    ),\n",
    "    Dict(\n",
    "        \"func\"=>matyas_func, \n",
    "        \"solutions\"=>[[0], [0]],\n",
    "    ),\n",
    "    Dict(\n",
    "        \"func\"=>himmelblau_func, \n",
    "        \"solutions\"=>[[3,-2.805118, -3.779310, 3.584428],[2, 3.131312, -3.283186, -1.848126]],\n",
    "    ),\n",
    "    Dict(\n",
    "        \"func\"=>mccormick_func, \n",
    "        \"solutions\"=>[[-0.54719], [-1.54719]],\n",
    "    ),\n",
    "    Dict(\n",
    "        \"func\"=>goldstein_price_func, \n",
    "        \"solutions\"=>[[0], [-1]],\n",
    "    ),\n",
    "    Dict(\n",
    "        \"func\"=>three_hump_camel_func, \n",
    "        \"solutions\"=>[[0], [0]],\n",
    "    ),\n",
    "];"
   ]
  },
  {
   "cell_type": "markdown",
   "id": "124c42ed-59f0-44ff-8c07-575318ff1d8e",
   "metadata": {},
   "source": [
    "## SGD with Momentum"
   ]
  },
  {
   "cell_type": "markdown",
   "id": "4185eac6-ab37-40bb-bfcb-26774233223d",
   "metadata": {},
   "source": [
    "Task 2. For each function, determine the trajectory of the algorithm given the following starting points"
   ]
  },
  {
   "cell_type": "code",
   "execution_count": null,
   "id": "31b073ea-c651-402e-a8fd-18fe6bf8cabd",
   "metadata": {},
   "outputs": [],
   "source": [
    "start_1 = [10,-10];\n",
    "start_2 = [-4, 4];\n",
    "start_3 = [0, 0];\n",
    "start_4 = [5,5];"
   ]
  },
  {
   "cell_type": "code",
   "execution_count": null,
   "id": "9c7c0d9c-3a80-45e6-a24e-f98cd57bb3fd",
   "metadata": {},
   "outputs": [],
   "source": [
    "test_function = TEST_FUNCTIONS[1]\n",
    "\n",
    "test_sgd(sgd_momentum, test_function[\"func\"], test_function[\"solutions\"], 2, [start_1, start_2, start_3, start_4])"
   ]
  },
  {
   "cell_type": "code",
   "execution_count": null,
   "id": "51f877d9-08f0-4167-a7d3-660224cb22d0",
   "metadata": {},
   "outputs": [],
   "source": [
    "test_function = TEST_FUNCTIONS[2]\n",
    "\n",
    "test_sgd(sgd_momentum, test_function[\"func\"], test_function[\"solutions\"], 2, [start_1, start_2, start_3, start_4]; γ=0.8)"
   ]
  },
  {
   "cell_type": "code",
   "execution_count": null,
   "id": "c84720a1-cc4a-4f33-ab2e-1ca62ec23f3e",
   "metadata": {},
   "outputs": [],
   "source": [
    "test_function = TEST_FUNCTIONS[3]\n",
    "\n",
    "test_sgd(sgd_momentum, test_function[\"func\"], test_function[\"solutions\"], 2, [start_1, start_2, start_3, start_4])"
   ]
  },
  {
   "cell_type": "code",
   "execution_count": null,
   "id": "28951c51-9cf5-43af-9f7f-7e0afd69a195",
   "metadata": {},
   "outputs": [],
   "source": [
    "test_function = TEST_FUNCTIONS[4]\n",
    "\n",
    "test_sgd(sgd_momentum, test_function[\"func\"], test_function[\"solutions\"], 2, [start_1, start_2, start_3, start_4]; γ=0.6)"
   ]
  },
  {
   "cell_type": "code",
   "execution_count": null,
   "id": "2a1d6132-5372-40f8-90ea-ec851ad13036",
   "metadata": {},
   "outputs": [],
   "source": [
    "test_function = TEST_FUNCTIONS[5]\n",
    "\n",
    "test_sgd(sgd_momentum, test_function[\"func\"], test_function[\"solutions\"], 2, [start_1, start_2, start_3, start_4])"
   ]
  },
  {
   "cell_type": "code",
   "execution_count": null,
   "id": "93216d8d-2521-43f2-b682-944364061a51",
   "metadata": {},
   "outputs": [],
   "source": [
    "test_function = TEST_FUNCTIONS[6]\n",
    "\n",
    "test_sgd(sgd_momentum, test_function[\"func\"], test_function[\"solutions\"], 2, [start_1, start_2, start_3, start_4]; η=0.0001)"
   ]
  },
  {
   "cell_type": "code",
   "execution_count": null,
   "id": "85d6a26d-69a4-4018-b33a-5bbde1af6f30",
   "metadata": {},
   "outputs": [],
   "source": [
    "test_function = TEST_FUNCTIONS[7]\n",
    "\n",
    "test_sgd(sgd_momentum, test_function[\"func\"], test_function[\"solutions\"], 2, [start_1, start_2, start_3, start_4]; γ=0.8)"
   ]
  },
  {
   "cell_type": "markdown",
   "id": "af95d4af-55c1-42d7-b709-352ca9d43d2c",
   "metadata": {
    "tags": []
   },
   "source": [
    "## RMSProp"
   ]
  },
  {
   "cell_type": "code",
   "execution_count": null,
   "id": "b2b656f9-1a03-4f87-a949-abf93e85be9a",
   "metadata": {},
   "outputs": [],
   "source": [
    "### Implement the RMSProp here\n",
    "function rmsprop(obj_func, num_params, start; γ=0.9, η=0.001, ϵ=1e-8, error=0.00001, max_trials = 100000)\n",
    "    θ = start\n",
    "    history = θ\n",
    "    grad = compute_gradient(obj_func, θ)\n",
    "    v = zeros(size(grad))\n",
    "    t = 0\n",
    "\n",
    "    while (abs(grad[1]) > error || abs(grad[2]) > error) && t < max_trials\n",
    "        t += 1\n",
    "        v = γ * v + (1 - γ) * grad.^2\n",
    "        θ = θ - (η ./ (sqrt.(v) .+ ϵ)) .* grad\n",
    "        grad = compute_gradient(obj_func, θ)\n",
    "        history = hcat(history, θ)\n",
    "    end\n",
    "    return (round.(θ, digits=3), history)\n",
    "end"
   ]
  },
  {
   "cell_type": "markdown",
   "id": "e0e05df0-8dfb-4efa-93ab-f76521cebb64",
   "metadata": {
    "tags": []
   },
   "source": [
    "Task 1. Plot the Contour of each considered function"
   ]
  },
  {
   "cell_type": "code",
   "execution_count": null,
   "id": "d5de7074-ef8b-4643-a69e-22b4f91a1612",
   "metadata": {},
   "outputs": [],
   "source": []
  },
  {
   "cell_type": "markdown",
   "id": "1684ad0a-07b3-401b-a019-d409fdc77a73",
   "metadata": {},
   "source": [
    "Task 2. For each function, determine the trajectory of the algorithm given the following starting points"
   ]
  },
  {
   "cell_type": "code",
   "execution_count": null,
   "id": "b98a9151-9d76-4643-8db6-761ad3e06e51",
   "metadata": {},
   "outputs": [],
   "source": [
    "start_1 = [10,-10];\n",
    "start_2 = [-4, 4];\n",
    "start_3 = [0, 0];\n",
    "start_4 = [5,5];"
   ]
  },
  {
   "cell_type": "markdown",
   "id": "b4cdf9c9-6cb2-4eff-a5c3-211784331ec5",
   "metadata": {},
   "source": [
    "Task 3. For each function, plot the trajectory of the algorithm using four randomly generated starting points of your choice."
   ]
  },
  {
   "cell_type": "code",
   "execution_count": null,
   "id": "9c5205b9-7d75-46e1-9bd3-4f58f065448b",
   "metadata": {},
   "outputs": [],
   "source": [
    "test_function = TEST_FUNCTIONS[1]\n",
    "\n",
    "test_sgd(rmsprop, test_function[\"func\"], test_function[\"solutions\"], 2, [start_1, start_2, start_3, start_4])"
   ]
  },
  {
   "cell_type": "code",
   "execution_count": null,
   "id": "fca7028c",
   "metadata": {},
   "outputs": [],
   "source": [
    "test_function = TEST_FUNCTIONS[2]\n",
    "\n",
    "test_sgd(rmsprop, test_function[\"func\"], test_function[\"solutions\"], 2, [start_1, start_2, start_3, start_4])"
   ]
  },
  {
   "cell_type": "code",
   "execution_count": null,
   "id": "29040a8e-01f5-4e9c-b904-1cea87a6eeb2",
   "metadata": {},
   "outputs": [],
   "source": [
    "test_function = TEST_FUNCTIONS[3]\n",
    "\n",
    "test_sgd(rmsprop, test_function[\"func\"], test_function[\"solutions\"], 2, [start_1, start_2, start_3, start_4])"
   ]
  },
  {
   "cell_type": "code",
   "execution_count": null,
   "id": "d1c3ca05-2f72-47ab-938f-fa854d253f01",
   "metadata": {},
   "outputs": [],
   "source": [
    "test_function = TEST_FUNCTIONS[4]\n",
    "\n",
    "test_sgd(rmsprop, test_function[\"func\"], test_function[\"solutions\"], 2, [start_1, start_2, start_3, start_4])"
   ]
  },
  {
   "cell_type": "code",
   "execution_count": null,
   "id": "cf4273eb-e7a5-4376-826c-b9fc2e574fdb",
   "metadata": {},
   "outputs": [],
   "source": [
    "test_function = TEST_FUNCTIONS[5]\n",
    "\n",
    "test_sgd(rmsprop, test_function[\"func\"], test_function[\"solutions\"], 2, [start_1, start_2, start_3, start_4])"
   ]
  },
  {
   "cell_type": "code",
   "execution_count": null,
   "id": "27f6358a-7aff-4e76-9479-13a807aa909a",
   "metadata": {},
   "outputs": [],
   "source": [
    "test_function = TEST_FUNCTIONS[6]\n",
    "\n",
    "test_sgd(rmsprop, test_function[\"func\"], test_function[\"solutions\"], 2, [start_1, start_2, start_3, start_4])"
   ]
  },
  {
   "cell_type": "code",
   "execution_count": null,
   "id": "fed96f62-ce6a-4745-85a4-e69bd3adb257",
   "metadata": {},
   "outputs": [],
   "source": [
    "test_function = TEST_FUNCTIONS[7]\n",
    "\n",
    "test_sgd(rmsprop, test_function[\"func\"], test_function[\"solutions\"], 2, [start_1, start_2, start_3, start_4])"
   ]
  },
  {
   "cell_type": "markdown",
   "id": "6a3c1c52-21ef-4bb2-8f6d-f51d53dececc",
   "metadata": {},
   "source": [
    "## Adaptive Moment Estimation (Adam)"
   ]
  },
  {
   "cell_type": "code",
   "execution_count": null,
   "id": "73bed294-c966-45ef-8dbc-a28be94d5a30",
   "metadata": {},
   "outputs": [],
   "source": [
    "### Implement the RMSProp here\n",
    "function adam(obj_func, num_params, start; γ=0.9, η=0.001, β1=0.9, β2=0.999, ϵ=1e-8, error=0.00001, max_trials = 100000)\n",
    "\n",
    "    θ = start\n",
    "    history = θ\n",
    "    grad = compute_gradient(obj_func, θ)\n",
    "    m = zeros(num_params)\n",
    "    v = zeros(num_params)\n",
    "    t = 0\n",
    "\n",
    "    while (abs(grad[1]) > error || abs(grad[2]) > error) && t < max_trials\n",
    "        t += 1\n",
    "        m = (β1 * m) + (1 - β1) * grad\n",
    "        v = (β2 * v) + (1 - β2) * (grad.^2)\n",
    "\n",
    "        m_hat = m / (1 - β1^t)\n",
    "        v_hat = v / (1 - β2^t)\n",
    "\n",
    "        θ = θ - η * m_hat ./ ( sqrt.(v_hat) .+ ϵ )\n",
    "        grad = compute_gradient(obj_func, θ)\n",
    "        history = hcat(history, θ)\n",
    "    end\n",
    "    return (round.(θ, digits=3), history)\n",
    "end"
   ]
  },
  {
   "cell_type": "markdown",
   "id": "27409729-ae61-48eb-8963-0f275dd58905",
   "metadata": {},
   "source": [
    "Task 1. Plot the Contour of each considered function"
   ]
  },
  {
   "cell_type": "code",
   "execution_count": null,
   "id": "a31397fe-b335-42f9-850b-69b6b0d2ba98",
   "metadata": {},
   "outputs": [],
   "source": []
  },
  {
   "cell_type": "markdown",
   "id": "1b5d8ea7-4358-4198-bdf1-ad1273b86da0",
   "metadata": {},
   "source": [
    "Task 2. For each function, determine the trajectory of the algorithm given the following starting points"
   ]
  },
  {
   "cell_type": "code",
   "execution_count": null,
   "id": "1fc41d14-59c7-4c60-8336-c69934122c0c",
   "metadata": {},
   "outputs": [],
   "source": [
    "start_1 = [10,-10];\n",
    "start_2 = [-4, 4];\n",
    "start_3 = [0, 0];\n",
    "start_4 = [5,5];"
   ]
  },
  {
   "cell_type": "code",
   "execution_count": null,
   "id": "19b47333",
   "metadata": {},
   "outputs": [],
   "source": [
    "test_function = TEST_FUNCTIONS[1]\n",
    "\n",
    "test_sgd(adam, test_function[\"func\"], test_function[\"solutions\"], 2, [start_1, start_2, start_3, start_4])"
   ]
  },
  {
   "cell_type": "code",
   "execution_count": null,
   "id": "439162cb",
   "metadata": {},
   "outputs": [],
   "source": [
    "test_function = TEST_FUNCTIONS[2]\n",
    "\n",
    "test_sgd(adam, test_function[\"func\"], test_function[\"solutions\"], 2, [start_1, start_2, start_3, start_4])"
   ]
  },
  {
   "cell_type": "code",
   "execution_count": null,
   "id": "c7ae005b",
   "metadata": {},
   "outputs": [],
   "source": [
    "test_function = TEST_FUNCTIONS[3]\n",
    "\n",
    "test_sgd(adam, test_function[\"func\"], test_function[\"solutions\"], 2, [start_1, start_2, start_3, start_4])"
   ]
  },
  {
   "cell_type": "code",
   "execution_count": null,
   "id": "f2999b1b-5c5d-4eed-b25a-1373aaadb923",
   "metadata": {},
   "outputs": [],
   "source": [
    "test_function = TEST_FUNCTIONS[4]\n",
    "\n",
    "test_sgd(adam, test_function[\"func\"], test_function[\"solutions\"], 2, [start_1, start_2, start_3, start_4])"
   ]
  },
  {
   "cell_type": "code",
   "execution_count": null,
   "id": "0b38da8e-d4a1-4a45-ad94-108a5c04a033",
   "metadata": {},
   "outputs": [],
   "source": [
    "test_function = TEST_FUNCTIONS[5]\n",
    "\n",
    "test_sgd(adam, test_function[\"func\"], test_function[\"solutions\"], 2, [start_1, start_2, start_3, start_4])"
   ]
  },
  {
   "cell_type": "code",
   "execution_count": null,
   "id": "82f06230-224f-4740-92f3-b8fad738fa0b",
   "metadata": {},
   "outputs": [],
   "source": [
    "test_function = TEST_FUNCTIONS[6]\n",
    "\n",
    "test_sgd(adam, test_function[\"func\"], test_function[\"solutions\"], 2, [start_1, start_2, start_3, start_4])"
   ]
  },
  {
   "cell_type": "code",
   "execution_count": null,
   "id": "b19cb57f-a882-4706-92d7-0f44dbddf12a",
   "metadata": {},
   "outputs": [],
   "source": [
    "test_function = TEST_FUNCTIONS[7]\n",
    "\n",
    "test_sgd(adam, test_function[\"func\"], test_function[\"solutions\"], 2, [start_1, start_2, start_3, start_4])"
   ]
  },
  {
   "cell_type": "markdown",
   "id": "03bfc830-b357-428e-b34d-3f9ff3837ded",
   "metadata": {},
   "source": [
    "Task 3. For each function, plot the trajectory of the algorithm using four randomly generated starting points of your choice."
   ]
  },
  {
   "cell_type": "code",
   "execution_count": null,
   "id": "8a7e658d-e76b-4fd0-9077-28615d310d23",
   "metadata": {},
   "outputs": [],
   "source": []
  }
 ],
 "metadata": {
  "kernelspec": {
   "display_name": "Julia 1.10.2",
   "language": "julia",
   "name": "julia-1.10"
  },
  "language_info": {
   "file_extension": ".jl",
   "mimetype": "application/julia",
   "name": "julia",
   "version": "1.10.2"
  }
 },
 "nbformat": 4,
 "nbformat_minor": 5
}
