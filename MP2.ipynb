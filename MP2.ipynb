{
 "cells": [
  {
   "cell_type": "markdown",
   "id": "38e8f04b-c337-40cb-b49a-02dcd3be4e5f",
   "metadata": {},
   "source": [
    "# Machine Problem 2"
   ]
  },
  {
   "cell_type": "markdown",
   "id": "22fefb2f-f95d-4f6b-8dc7-502c8eb2c9c5",
   "metadata": {},
   "source": [
    "Instructions: Implement the RMSProp and Adam (as discussed in the video lectures). You may use the helper functions provided below. "
   ]
  },
  {
   "cell_type": "markdown",
   "id": "9e5faa14-733f-4b9c-8d0a-711992c45c34",
   "metadata": {
    "tags": []
   },
   "source": [
    "## Helper Functions"
   ]
  },
  {
   "cell_type": "code",
   "execution_count": 1,
   "id": "123d0aef-3fa1-4fef-b92d-d31a2d6658ff",
   "metadata": {},
   "outputs": [
    {
     "ename": "ArgumentError",
     "evalue": "ArgumentError: Package ForwardDiff not found in current path.\n- Run `import Pkg; Pkg.add(\"ForwardDiff\")` to install the ForwardDiff package.",
     "output_type": "error",
     "traceback": [
      "ArgumentError: Package ForwardDiff not found in current path.\n",
      "- Run `import Pkg; Pkg.add(\"ForwardDiff\")` to install the ForwardDiff package.\n",
      "\n",
      "Stacktrace:\n",
      "  [1] macro expansion\n",
      "    @ .\\loading.jl:1630 [inlined]\n",
      "  [2] macro expansion\n",
      "    @ .\\lock.jl:267 [inlined]\n",
      "  [3] require(into::Module, mod::Symbol)\n",
      "    @ Base .\\loading.jl:1611\n",
      "  [4] eval\n",
      "    @ .\\boot.jl:370 [inlined]\n",
      "  [5] include_string(mapexpr::typeof(REPL.softscope), mod::Module, code::String, filename::String)\n",
      "    @ Base .\\loading.jl:1903\n",
      "  [6] #invokelatest#2\n",
      "    @ .\\essentials.jl:819 [inlined]\n",
      "  [7] invokelatest\n",
      "    @ .\\essentials.jl:816 [inlined]\n",
      "  [8] (::VSCodeServer.var\"#219#220\"{VSCodeServer.NotebookRunCellArguments, String})()\n",
      "    @ VSCodeServer c:\\Users\\jav\\.vscode\\extensions\\julialang.language-julia-1.79.2\\scripts\\packages\\VSCodeServer\\src\\serve_notebook.jl:19\n",
      "  [9] withpath(f::VSCodeServer.var\"#219#220\"{VSCodeServer.NotebookRunCellArguments, String}, path::String)\n",
      "    @ VSCodeServer c:\\Users\\jav\\.vscode\\extensions\\julialang.language-julia-1.79.2\\scripts\\packages\\VSCodeServer\\src\\repl.jl:276\n",
      " [10] notebook_runcell_request(conn::VSCodeServer.JSONRPC.JSONRPCEndpoint{Base.PipeEndpoint, Base.PipeEndpoint}, params::VSCodeServer.NotebookRunCellArguments)\n",
      "    @ VSCodeServer c:\\Users\\jav\\.vscode\\extensions\\julialang.language-julia-1.79.2\\scripts\\packages\\VSCodeServer\\src\\serve_notebook.jl:13\n",
      " [11] dispatch_msg(x::VSCodeServer.JSONRPC.JSONRPCEndpoint{Base.PipeEndpoint, Base.PipeEndpoint}, dispatcher::VSCodeServer.JSONRPC.MsgDispatcher, msg::Dict{String, Any})\n",
      "    @ VSCodeServer.JSONRPC c:\\Users\\jav\\.vscode\\extensions\\julialang.language-julia-1.79.2\\scripts\\packages\\JSONRPC\\src\\typed.jl:67\n",
      " [12] serve_notebook(pipename::String, outputchannel_logger::Base.CoreLogging.SimpleLogger; crashreporting_pipename::String)\n",
      "    @ VSCodeServer c:\\Users\\jav\\.vscode\\extensions\\julialang.language-julia-1.79.2\\scripts\\packages\\VSCodeServer\\src\\serve_notebook.jl:139\n",
      " [13] top-level scope\n",
      "    @ c:\\Users\\jav\\.vscode\\extensions\\julialang.language-julia-1.79.2\\scripts\\notebook\\notebook.jl:35"
     ]
    }
   ],
   "source": [
    "using ForwardDiff\n",
    "using Plots\n",
    "using Symbolics\n",
    "\n",
    "### helper functions\n",
    "function optimize(f, params)\n",
    "    w = rand(p)\n",
    "    for t in 1:N\n",
    "        x = X[t, :] \n",
    "    end\n",
    "end\n",
    "\n",
    "function compute_gradient(f, x)\n",
    "    grad = ForwardDiff.gradient(f, x)\n",
    "    return grad\n",
    "end\n",
    "\n",
    "function symbolic_2dgradient(f)\n",
    "\n",
    "    @variables x y\n",
    "\n",
    "    D_x = Differential(x)\n",
    "    D_y = Differential(y)\n",
    "\n",
    "    df_dx = expand_derivatives(D_x(f(x, y)))  # Partial derivative w.r.t. x\n",
    "    df_dy = expand_derivatives(D_y(f(x, y)))  # Partial derivative w.r.t. y\n",
    "\n",
    "    println(\"∂f/∂x: $df_dx\")\n",
    "    println(\"∂f/∂y: $df_dy\")\n",
    "\n",
    "end\n",
    "\n",
    "### learning algorithms\n",
    "function sgd_momentum(obj_func, num_params, start, γ=0.9, η=0.001, xrange=[-10,10], yrange=[-10,10], levels=200, error=0.00001)\n",
    "\n",
    "    θ = start\n",
    "    history = θ\n",
    "    grad = compute_gradient(obj_func, θ)\n",
    "    \n",
    "    while abs(grad[1]) > error || abs(grad[2]) > error\n",
    "        v = zeros(num_params)\n",
    "        grad = compute_gradient(obj_func, θ)\n",
    "        v = γ .* v + - η .* grad\n",
    "        θ = θ + v\n",
    "        history = hcat(history, θ)\n",
    "    end\n",
    "    \n",
    "    return (round.(θ, digits=3), history)\n",
    "end\n",
    "\n",
    "### plotting\n",
    "\n",
    "function countour_plot(func, xrange, yrange, x_scatter, y_scatter, fill=false, levels=100)\n",
    "    x_vals = range(xrange[1], xrange[2], length = 100)\n",
    "    y_vals = range(yrange[1], yrange[2], length = 100)\n",
    "    \n",
    "    z_vals = [func(x, y) for y in y_vals, x in x_vals]\n",
    "    Plots.contour(x_vals, y_vals, z_vals, levels = 50, xlabel = \"x\", ylabel = \"y\", fill=fill)\n",
    "    plot!(x_scatter, y_scatter, color=:red, label=\"Trajectory\")\n",
    "    scatter!([x_scatter[1]], [y_scatter[1]], color=:black,label=\"Initial Solution\")\n",
    "    scatter!([x_scatter[end]], [y_scatter[end]], markershape=:utriangle, color=:black, label=\"Best Solution\")\n",
    "end"
   ]
  },
  {
   "cell_type": "markdown",
   "id": "39260048-57a2-44d5-98fa-ba2288c447a8",
   "metadata": {},
   "source": [
    "### You need to implement the benchmark functions below. You may refer to this page for reference: https://en.wikipedia.org/wiki/Test_functions_for_optimization"
   ]
  },
  {
   "cell_type": "code",
   "execution_count": 2,
   "id": "9335b1a2-e497-4890-81c0-e30f2069954c",
   "metadata": {},
   "outputs": [
    {
     "ename": "ErrorException",
     "evalue": "syntax: use \"x^y\" instead of \"x**y\" for exponentiation, and \"x...\" instead of \"**x\" for splatting.",
     "output_type": "error",
     "traceback": [
      "syntax: use \"x^y\" instead of \"x**y\" for exponentiation, and \"x...\" instead of \"**x\" for splatting.\n",
      "\n",
      "Stacktrace:\n",
      " [1] top-level scope\n",
      "   @ c:\\Users\\jav\\Documents\\School\\4th Year Sem 2\\CMSC 176 - DEEP LEARNING\\MP 2\\cmsc-176dl-mp2\\MP2.ipynb:18"
     ]
    }
   ],
   "source": [
    "### Benchmark functions\n",
    "function beale_func(u)\n",
    "    x = u[1]\n",
    "    y = u[2]\n",
    "    return beale_func(x,y)\n",
    "end\n",
    "\n",
    "function beale_func(x,y)\n",
    "    return (1.5 - x + x*y)^2 + (2.25 - x + x*y^2)^2 + (2.625 - x + x*y^3)^2\n",
    "end\n",
    "\n",
    "function booth_func(u)\n",
    "\n",
    "    return nothing\n",
    "end\n",
    "\n",
    "function booth_func(x, y)\n",
    "    return (x + 2*y -7)^2 + (2*x + y - 5)^2\n",
    "end\n",
    "function matyas_func(u)\n",
    "    return nothing\n",
    "end\n",
    "\n",
    "function matyas_func(x,y)\n",
    "    return nothing\n",
    "end\n",
    "\n",
    "function himmelblau_func(u)\n",
    "    return nothing\n",
    "end\n",
    "\n",
    "function himmelblau_func(x,y)\n",
    "    return (x^2 + y - 11)^2 + (x + y^2 - 7)^2\n",
    "end\n",
    "\n",
    "function mccormick_func(u)\n",
    "    return nothing\n",
    "end\n",
    "\n",
    "function mccormick_func(x,y)\n",
    "    return sin(x + y) + (x - y)^2 - 1.5*x + 2.5*y + 1\n",
    "end\n",
    "\n",
    "function goldstein_price_func(x,y)\n",
    "    return (1 + (x + y + 1)^2 * (19 - 14*x + 3*x^2 - 14*y + 6*x*y + 3*y^2)) * (30 + (2*x - 3*y)^2 * (18 - 32*x + 12*x^2 + 48*y - 36*x*y + 27*y^2))\n",
    "end\n",
    "\n",
    "function goldstein_price_func(u)\n",
    "    return nothing\n",
    "end\n",
    "\n",
    "function three_hump_camel_func(x,y)\n",
    "    return 2*x^2 - 1.05*x^4 + (x^6 / 6) + x*y + y^2\n",
    "end\n",
    "\n",
    "function three_hump_camel_func(u)\n",
    "    return nothing\n",
    "end"
   ]
  },
  {
   "cell_type": "markdown",
   "id": "af95d4af-55c1-42d7-b709-352ca9d43d2c",
   "metadata": {
    "tags": []
   },
   "source": [
    "## RMSProp"
   ]
  },
  {
   "cell_type": "code",
   "execution_count": 3,
   "id": "b2b656f9-1a03-4f87-a949-abf93e85be9a",
   "metadata": {},
   "outputs": [
    {
     "data": {
      "text/plain": [
       "rmsprop (generic function with 1 method)"
      ]
     },
     "metadata": {},
     "output_type": "display_data"
    }
   ],
   "source": [
    "### Implement the RMSProp here\n",
    "function rmsprop()\n",
    "    nothing\n",
    "end"
   ]
  },
  {
   "cell_type": "markdown",
   "id": "e0e05df0-8dfb-4efa-93ab-f76521cebb64",
   "metadata": {
    "tags": []
   },
   "source": [
    "Task 1. Plot the Contour of each considered function"
   ]
  },
  {
   "cell_type": "code",
   "execution_count": 4,
   "id": "d5de7074-ef8b-4643-a69e-22b4f91a1612",
   "metadata": {},
   "outputs": [],
   "source": []
  },
  {
   "cell_type": "markdown",
   "id": "1684ad0a-07b3-401b-a019-d409fdc77a73",
   "metadata": {},
   "source": [
    "Task 2. For each function, determine the trajectory of the algorithm given the following starting points"
   ]
  },
  {
   "cell_type": "code",
   "execution_count": 5,
   "id": "b98a9151-9d76-4643-8db6-761ad3e06e51",
   "metadata": {},
   "outputs": [],
   "source": [
    "start_1 = [10,-10];\n",
    "start_2 = [-4, 4];\n",
    "start_3 = [0, 0];\n",
    "start_4 = [5,5];"
   ]
  },
  {
   "cell_type": "markdown",
   "id": "b4cdf9c9-6cb2-4eff-a5c3-211784331ec5",
   "metadata": {},
   "source": [
    "Task 3. For each function, plot the trajectory of the algorithm using four randomly generated starting points of your choice."
   ]
  },
  {
   "cell_type": "code",
   "execution_count": 6,
   "id": "9c5205b9-7d75-46e1-9bd3-4f58f065448b",
   "metadata": {},
   "outputs": [],
   "source": []
  },
  {
   "cell_type": "markdown",
   "id": "6a3c1c52-21ef-4bb2-8f6d-f51d53dececc",
   "metadata": {},
   "source": [
    "## Adaptive Moment Estimation (Adam)"
   ]
  },
  {
   "cell_type": "code",
   "execution_count": 7,
   "id": "73bed294-c966-45ef-8dbc-a28be94d5a30",
   "metadata": {},
   "outputs": [
    {
     "data": {
      "text/plain": [
       "adam (generic function with 1 method)"
      ]
     },
     "metadata": {},
     "output_type": "display_data"
    }
   ],
   "source": [
    "### Implement the RMSProp here\n",
    "function adam()\n",
    "    nothing\n",
    "end"
   ]
  },
  {
   "cell_type": "markdown",
   "id": "27409729-ae61-48eb-8963-0f275dd58905",
   "metadata": {},
   "source": [
    "Task 1. Plot the Contour of each considered function"
   ]
  },
  {
   "cell_type": "code",
   "execution_count": 8,
   "id": "a31397fe-b335-42f9-850b-69b6b0d2ba98",
   "metadata": {},
   "outputs": [],
   "source": [
    "start_1 = [10,-10];\n",
    "start_2 = [-4, 4];\n",
    "start_3 = [0, 0];\n",
    "start_4 = [5,5];"
   ]
  },
  {
   "cell_type": "markdown",
   "id": "1b5d8ea7-4358-4198-bdf1-ad1273b86da0",
   "metadata": {},
   "source": [
    "Task 2. For each function, determine the trajectory of the algorithm given the following starting points"
   ]
  },
  {
   "cell_type": "code",
   "execution_count": 9,
   "id": "1fc41d14-59c7-4c60-8336-c69934122c0c",
   "metadata": {},
   "outputs": [],
   "source": []
  },
  {
   "cell_type": "markdown",
   "id": "03bfc830-b357-428e-b34d-3f9ff3837ded",
   "metadata": {},
   "source": [
    "Task 3. For each function, plot the trajectory of the algorithm using four randomly generated starting points of your choice."
   ]
  },
  {
   "cell_type": "code",
   "execution_count": 10,
   "id": "8a7e658d-e76b-4fd0-9077-28615d310d23",
   "metadata": {},
   "outputs": [],
   "source": []
  }
 ],
 "metadata": {
  "kernelspec": {
   "display_name": "Julia 1.9.3",
   "language": "julia",
   "name": "julia-1.9"
  },
  "language_info": {
   "file_extension": ".jl",
   "mimetype": "application/julia",
   "name": "julia",
   "version": "1.9.3"
  }
 },
 "nbformat": 4,
 "nbformat_minor": 5
}
